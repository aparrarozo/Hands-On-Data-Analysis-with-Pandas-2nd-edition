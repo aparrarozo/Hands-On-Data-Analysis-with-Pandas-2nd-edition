{
 "cells": [
  {
   "cell_type": "raw",
   "id": "6f25a06b",
   "metadata": {},
   "source": [
    "Exercises\n",
    "Create the following visualizations using what we have learned so far in this book and the\n",
    "data from this chapter. Be sure to add titles, axis labels, and legends (where appropriate)\n",
    "to the plots:\n",
    "1. Using seaborn, create a heatmap to visualize the correlation coefficients between\n",
    "earthquake magnitude and whether there was a tsunami for earthquakes measured\n",
    "with the mb magnitude type.\n",
    "2. Create a box plot of Facebook volume traded and closing prices, and draw reference\n",
    "lines for the bounds of a Tukey fence with a multiplier of 1.5. The bounds will be\n",
    "at Q1 − 1.5   IQR and Q3 + 1.5   IQR. Be sure to use the quantile() method on\n",
    "the data to make this easier. (Pick whichever orientation you prefer for the plot, but\n",
    "make sure to use subplots.)\n",
    "3. Plot the evolution of cumulative COVID-19 cases worldwide, and add a dashed\n",
    "vertical line on the date that it surpassed 1 million. Be sure to format the tick labels\n",
    "on the y-axis accordingly.\n",
    "4. Use axvspan() to shade a rectangle from '2018-07-25' to '2018-07-31',\n",
    "which marks the large decline in Facebook price on a line plot of the closing price.\n",
    "5. Using the Facebook stock price data, annotate the following three events on a line\n",
    "plot of the closing price:\n",
    "a) Disappointing user growth announced after close on July 25, 2018\n",
    "b) Cambridge Analytica story breaks on March 19, 2018 (when it affected the\n",
    "market)\n",
    "c) FTC launches investigation on March 20, 2018\n",
    "6. Modify the reg_resid_plots() function to use a matplotlib colormap\n",
    "instead of cycling between two colors. Remember, for this use case, we should\n",
    "pick a qualitative colormap or make our own."
   ]
  },
  {
   "cell_type": "markdown",
   "id": "ad9f8bc8",
   "metadata": {},
   "source": [
    "# \n",
    "Using seaborn, create a heatmap to visualize the correlation coefficients between\n",
    "earthquake magnitude and whether there was a tsunami for earthquakes measured\n",
    "with the mb magnitude type."
   ]
  },
  {
   "cell_type": "code",
   "execution_count": 1,
   "id": "94641a2b",
   "metadata": {},
   "outputs": [],
   "source": [
    "import seaborn as sns\n",
    "import pandas as pd\n",
    "import numpy as np\n",
    "%matplotlib inline\n",
    "import matplotlib.pyplot as plt"
   ]
  },
  {
   "cell_type": "code",
   "execution_count": 2,
   "id": "84541ae8",
   "metadata": {},
   "outputs": [
    {
     "data": {
      "text/html": [
       "<div>\n",
       "<style scoped>\n",
       "    .dataframe tbody tr th:only-of-type {\n",
       "        vertical-align: middle;\n",
       "    }\n",
       "\n",
       "    .dataframe tbody tr th {\n",
       "        vertical-align: top;\n",
       "    }\n",
       "\n",
       "    .dataframe thead th {\n",
       "        text-align: right;\n",
       "    }\n",
       "</style>\n",
       "<table border=\"1\" class=\"dataframe\">\n",
       "  <thead>\n",
       "    <tr style=\"text-align: right;\">\n",
       "      <th></th>\n",
       "      <th>mag</th>\n",
       "      <th>magType</th>\n",
       "      <th>time</th>\n",
       "      <th>place</th>\n",
       "      <th>tsunami</th>\n",
       "      <th>parsed_place</th>\n",
       "    </tr>\n",
       "  </thead>\n",
       "  <tbody>\n",
       "    <tr>\n",
       "      <th>0</th>\n",
       "      <td>1.35</td>\n",
       "      <td>ml</td>\n",
       "      <td>1539475168010</td>\n",
       "      <td>9km NE of Aguanga, CA</td>\n",
       "      <td>0</td>\n",
       "      <td>California</td>\n",
       "    </tr>\n",
       "    <tr>\n",
       "      <th>1</th>\n",
       "      <td>1.29</td>\n",
       "      <td>ml</td>\n",
       "      <td>1539475129610</td>\n",
       "      <td>9km NE of Aguanga, CA</td>\n",
       "      <td>0</td>\n",
       "      <td>California</td>\n",
       "    </tr>\n",
       "    <tr>\n",
       "      <th>2</th>\n",
       "      <td>3.42</td>\n",
       "      <td>ml</td>\n",
       "      <td>1539475062610</td>\n",
       "      <td>8km NE of Aguanga, CA</td>\n",
       "      <td>0</td>\n",
       "      <td>California</td>\n",
       "    </tr>\n",
       "    <tr>\n",
       "      <th>3</th>\n",
       "      <td>0.44</td>\n",
       "      <td>ml</td>\n",
       "      <td>1539474978070</td>\n",
       "      <td>9km NE of Aguanga, CA</td>\n",
       "      <td>0</td>\n",
       "      <td>California</td>\n",
       "    </tr>\n",
       "    <tr>\n",
       "      <th>4</th>\n",
       "      <td>2.16</td>\n",
       "      <td>md</td>\n",
       "      <td>1539474716050</td>\n",
       "      <td>10km NW of Avenal, CA</td>\n",
       "      <td>0</td>\n",
       "      <td>California</td>\n",
       "    </tr>\n",
       "    <tr>\n",
       "      <th>...</th>\n",
       "      <td>...</td>\n",
       "      <td>...</td>\n",
       "      <td>...</td>\n",
       "      <td>...</td>\n",
       "      <td>...</td>\n",
       "      <td>...</td>\n",
       "    </tr>\n",
       "    <tr>\n",
       "      <th>9327</th>\n",
       "      <td>0.62</td>\n",
       "      <td>md</td>\n",
       "      <td>1537230228060</td>\n",
       "      <td>9km ENE of Mammoth Lakes, CA</td>\n",
       "      <td>0</td>\n",
       "      <td>California</td>\n",
       "    </tr>\n",
       "    <tr>\n",
       "      <th>9328</th>\n",
       "      <td>1.00</td>\n",
       "      <td>ml</td>\n",
       "      <td>1537230135130</td>\n",
       "      <td>3km W of Julian, CA</td>\n",
       "      <td>0</td>\n",
       "      <td>California</td>\n",
       "    </tr>\n",
       "    <tr>\n",
       "      <th>9329</th>\n",
       "      <td>2.40</td>\n",
       "      <td>md</td>\n",
       "      <td>1537229908180</td>\n",
       "      <td>35km NNE of Hatillo, Puerto Rico</td>\n",
       "      <td>0</td>\n",
       "      <td>Puerto Rico</td>\n",
       "    </tr>\n",
       "    <tr>\n",
       "      <th>9330</th>\n",
       "      <td>1.10</td>\n",
       "      <td>ml</td>\n",
       "      <td>1537229545350</td>\n",
       "      <td>9km NE of Aguanga, CA</td>\n",
       "      <td>0</td>\n",
       "      <td>California</td>\n",
       "    </tr>\n",
       "    <tr>\n",
       "      <th>9331</th>\n",
       "      <td>0.66</td>\n",
       "      <td>ml</td>\n",
       "      <td>1537228864470</td>\n",
       "      <td>9km NE of Aguanga, CA</td>\n",
       "      <td>0</td>\n",
       "      <td>California</td>\n",
       "    </tr>\n",
       "  </tbody>\n",
       "</table>\n",
       "<p>9332 rows × 6 columns</p>\n",
       "</div>"
      ],
      "text/plain": [
       "       mag magType           time                             place  tsunami  \\\n",
       "0     1.35      ml  1539475168010             9km NE of Aguanga, CA        0   \n",
       "1     1.29      ml  1539475129610             9km NE of Aguanga, CA        0   \n",
       "2     3.42      ml  1539475062610             8km NE of Aguanga, CA        0   \n",
       "3     0.44      ml  1539474978070             9km NE of Aguanga, CA        0   \n",
       "4     2.16      md  1539474716050             10km NW of Avenal, CA        0   \n",
       "...    ...     ...            ...                               ...      ...   \n",
       "9327  0.62      md  1537230228060      9km ENE of Mammoth Lakes, CA        0   \n",
       "9328  1.00      ml  1537230135130               3km W of Julian, CA        0   \n",
       "9329  2.40      md  1537229908180  35km NNE of Hatillo, Puerto Rico        0   \n",
       "9330  1.10      ml  1537229545350             9km NE of Aguanga, CA        0   \n",
       "9331  0.66      ml  1537228864470             9km NE of Aguanga, CA        0   \n",
       "\n",
       "     parsed_place  \n",
       "0      California  \n",
       "1      California  \n",
       "2      California  \n",
       "3      California  \n",
       "4      California  \n",
       "...           ...  \n",
       "9327   California  \n",
       "9328   California  \n",
       "9329  Puerto Rico  \n",
       "9330   California  \n",
       "9331   California  \n",
       "\n",
       "[9332 rows x 6 columns]"
      ]
     },
     "execution_count": 2,
     "metadata": {},
     "output_type": "execute_result"
    }
   ],
   "source": [
    "quakes = pd.read_csv('data/earthquakes.csv')\n",
    "quakes"
   ]
  },
  {
   "cell_type": "code",
   "execution_count": 3,
   "id": "19159855",
   "metadata": {},
   "outputs": [
    {
     "data": {
      "text/html": [
       "<div>\n",
       "<style scoped>\n",
       "    .dataframe tbody tr th:only-of-type {\n",
       "        vertical-align: middle;\n",
       "    }\n",
       "\n",
       "    .dataframe tbody tr th {\n",
       "        vertical-align: top;\n",
       "    }\n",
       "\n",
       "    .dataframe thead th {\n",
       "        text-align: right;\n",
       "    }\n",
       "</style>\n",
       "<table border=\"1\" class=\"dataframe\">\n",
       "  <thead>\n",
       "    <tr style=\"text-align: right;\">\n",
       "      <th></th>\n",
       "      <th>mag</th>\n",
       "      <th>magType</th>\n",
       "      <th>time</th>\n",
       "      <th>place</th>\n",
       "      <th>tsunami</th>\n",
       "      <th>parsed_place</th>\n",
       "    </tr>\n",
       "  </thead>\n",
       "  <tbody>\n",
       "    <tr>\n",
       "      <th>9</th>\n",
       "      <td>4.7</td>\n",
       "      <td>mb</td>\n",
       "      <td>1539472814760</td>\n",
       "      <td>219km SSE of Saparua, Indonesia</td>\n",
       "      <td>0</td>\n",
       "      <td>Indonesia</td>\n",
       "    </tr>\n",
       "    <tr>\n",
       "      <th>13</th>\n",
       "      <td>4.5</td>\n",
       "      <td>mb</td>\n",
       "      <td>1539470898340</td>\n",
       "      <td>120km SSW of Banda Aceh, Indonesia</td>\n",
       "      <td>0</td>\n",
       "      <td>Indonesia</td>\n",
       "    </tr>\n",
       "    <tr>\n",
       "      <th>55</th>\n",
       "      <td>4.6</td>\n",
       "      <td>mb</td>\n",
       "      <td>1539453241120</td>\n",
       "      <td>242km NNW of Farallon de Pajaros, Northern Mar...</td>\n",
       "      <td>0</td>\n",
       "      <td>Northern Mariana Islands</td>\n",
       "    </tr>\n",
       "    <tr>\n",
       "      <th>67</th>\n",
       "      <td>4.6</td>\n",
       "      <td>mb</td>\n",
       "      <td>1539448501800</td>\n",
       "      <td>160km NNW of Nago, Japan</td>\n",
       "      <td>0</td>\n",
       "      <td>Japan</td>\n",
       "    </tr>\n",
       "    <tr>\n",
       "      <th>91</th>\n",
       "      <td>4.7</td>\n",
       "      <td>mb</td>\n",
       "      <td>1539437762090</td>\n",
       "      <td>32km SE of Muisne, Ecuador</td>\n",
       "      <td>0</td>\n",
       "      <td>Ecuador</td>\n",
       "    </tr>\n",
       "    <tr>\n",
       "      <th>...</th>\n",
       "      <td>...</td>\n",
       "      <td>...</td>\n",
       "      <td>...</td>\n",
       "      <td>...</td>\n",
       "      <td>...</td>\n",
       "      <td>...</td>\n",
       "    </tr>\n",
       "    <tr>\n",
       "      <th>9297</th>\n",
       "      <td>4.2</td>\n",
       "      <td>mb</td>\n",
       "      <td>1537238925690</td>\n",
       "      <td>2km NE of Kato Achaia, Greece</td>\n",
       "      <td>0</td>\n",
       "      <td>Greece</td>\n",
       "    </tr>\n",
       "    <tr>\n",
       "      <th>9304</th>\n",
       "      <td>5.1</td>\n",
       "      <td>mb</td>\n",
       "      <td>1537236235470</td>\n",
       "      <td>34km NW of Finschhafen, Papua New Guinea</td>\n",
       "      <td>1</td>\n",
       "      <td>Papua New Guinea</td>\n",
       "    </tr>\n",
       "    <tr>\n",
       "      <th>9309</th>\n",
       "      <td>4.8</td>\n",
       "      <td>mb</td>\n",
       "      <td>1537234582260</td>\n",
       "      <td>11km ESE of Rotorua, New Zealand</td>\n",
       "      <td>0</td>\n",
       "      <td>New Zealand</td>\n",
       "    </tr>\n",
       "    <tr>\n",
       "      <th>9319</th>\n",
       "      <td>4.4</td>\n",
       "      <td>mb</td>\n",
       "      <td>1537231966170</td>\n",
       "      <td>58km W of San Antonio de los Cobres, Argentina</td>\n",
       "      <td>0</td>\n",
       "      <td>Argentina</td>\n",
       "    </tr>\n",
       "    <tr>\n",
       "      <th>9321</th>\n",
       "      <td>4.3</td>\n",
       "      <td>mb</td>\n",
       "      <td>1537231275500</td>\n",
       "      <td>19km NE of Cateel, Philippines</td>\n",
       "      <td>0</td>\n",
       "      <td>Philippines</td>\n",
       "    </tr>\n",
       "  </tbody>\n",
       "</table>\n",
       "<p>601 rows × 6 columns</p>\n",
       "</div>"
      ],
      "text/plain": [
       "      mag magType           time  \\\n",
       "9     4.7      mb  1539472814760   \n",
       "13    4.5      mb  1539470898340   \n",
       "55    4.6      mb  1539453241120   \n",
       "67    4.6      mb  1539448501800   \n",
       "91    4.7      mb  1539437762090   \n",
       "...   ...     ...            ...   \n",
       "9297  4.2      mb  1537238925690   \n",
       "9304  5.1      mb  1537236235470   \n",
       "9309  4.8      mb  1537234582260   \n",
       "9319  4.4      mb  1537231966170   \n",
       "9321  4.3      mb  1537231275500   \n",
       "\n",
       "                                                  place  tsunami  \\\n",
       "9                       219km SSE of Saparua, Indonesia        0   \n",
       "13                   120km SSW of Banda Aceh, Indonesia        0   \n",
       "55    242km NNW of Farallon de Pajaros, Northern Mar...        0   \n",
       "67                             160km NNW of Nago, Japan        0   \n",
       "91                           32km SE of Muisne, Ecuador        0   \n",
       "...                                                 ...      ...   \n",
       "9297                      2km NE of Kato Achaia, Greece        0   \n",
       "9304           34km NW of Finschhafen, Papua New Guinea        1   \n",
       "9309                   11km ESE of Rotorua, New Zealand        0   \n",
       "9319     58km W of San Antonio de los Cobres, Argentina        0   \n",
       "9321                     19km NE of Cateel, Philippines        0   \n",
       "\n",
       "                  parsed_place  \n",
       "9                    Indonesia  \n",
       "13                   Indonesia  \n",
       "55    Northern Mariana Islands  \n",
       "67                       Japan  \n",
       "91                     Ecuador  \n",
       "...                        ...  \n",
       "9297                    Greece  \n",
       "9304          Papua New Guinea  \n",
       "9309               New Zealand  \n",
       "9319                 Argentina  \n",
       "9321               Philippines  \n",
       "\n",
       "[601 rows x 6 columns]"
      ]
     },
     "execution_count": 3,
     "metadata": {},
     "output_type": "execute_result"
    }
   ],
   "source": [
    "mb_quakes = quakes.query('magType== \"mb\"')\n",
    "mb_quakes"
   ]
  },
  {
   "cell_type": "code",
   "execution_count": 4,
   "id": "79d499c6",
   "metadata": {},
   "outputs": [
    {
     "data": {
      "text/html": [
       "<div>\n",
       "<style scoped>\n",
       "    .dataframe tbody tr th:only-of-type {\n",
       "        vertical-align: middle;\n",
       "    }\n",
       "\n",
       "    .dataframe tbody tr th {\n",
       "        vertical-align: top;\n",
       "    }\n",
       "\n",
       "    .dataframe thead th {\n",
       "        text-align: right;\n",
       "    }\n",
       "</style>\n",
       "<table border=\"1\" class=\"dataframe\">\n",
       "  <thead>\n",
       "    <tr style=\"text-align: right;\">\n",
       "      <th></th>\n",
       "      <th>mag</th>\n",
       "      <th>time</th>\n",
       "      <th>tsunami</th>\n",
       "    </tr>\n",
       "  </thead>\n",
       "  <tbody>\n",
       "    <tr>\n",
       "      <th>mag</th>\n",
       "      <td>1.000000</td>\n",
       "      <td>0.155553</td>\n",
       "      <td>0.448921</td>\n",
       "    </tr>\n",
       "    <tr>\n",
       "      <th>time</th>\n",
       "      <td>0.155553</td>\n",
       "      <td>1.000000</td>\n",
       "      <td>-0.020662</td>\n",
       "    </tr>\n",
       "    <tr>\n",
       "      <th>tsunami</th>\n",
       "      <td>0.448921</td>\n",
       "      <td>-0.020662</td>\n",
       "      <td>1.000000</td>\n",
       "    </tr>\n",
       "  </tbody>\n",
       "</table>\n",
       "</div>"
      ],
      "text/plain": [
       "              mag      time   tsunami\n",
       "mag      1.000000  0.155553  0.448921\n",
       "time     0.155553  1.000000 -0.020662\n",
       "tsunami  0.448921 -0.020662  1.000000"
      ]
     },
     "execution_count": 4,
     "metadata": {},
     "output_type": "execute_result"
    }
   ],
   "source": [
    "mb_quakes.corr()"
   ]
  },
  {
   "cell_type": "code",
   "execution_count": 5,
   "id": "bd8e3186",
   "metadata": {},
   "outputs": [
    {
     "data": {
      "text/plain": [
       "Text(0.5, 1.0, 'Correlation between earthquake magnitude mb and whether there was a tsunami')"
      ]
     },
     "execution_count": 5,
     "metadata": {},
     "output_type": "execute_result"
    },
    {
     "data": {
      "image/png": "[encoded data removed]",
      "text/plain": [
       "<Figure size 432x288 with 2 Axes>"
      ]
     },
     "metadata": {
      "needs_background": "light"
     },
     "output_type": "display_data"
    }
   ],
   "source": [
    "sns.heatmap(mb_quakes[[\"mag\",\"tsunami\"]].corr(),annot=True,center=0,vmin=-1,vmax=1)\n",
    "plt.title('Correlation between earthquake magnitude mb and whether there was a tsunami')"
   ]
  },
  {
   "cell_type": "code",
   "execution_count": 6,
   "id": "dfc38441",
   "metadata": {},
   "outputs": [
    {
     "data": {
      "text/plain": [
       "Text(0.5, 1.0, 'Correlation between earthquake magnitude mb and whether there was a tsunami')"
      ]
     },
     "execution_count": 6,
     "metadata": {},
     "output_type": "execute_result"
    },
    {
     "data": {
      "image/png": "[encoded data removed]",
      "text/plain": [
       "<Figure size 432x288 with 2 Axes>"
      ]
     },
     "metadata": {
      "needs_background": "light"
     },
     "output_type": "display_data"
    }
   ],
   "source": [
    "sns.heatmap(\n",
    "    quakes.query('magType == \"mb\"')[['mag','tsunami']].corr(), \n",
    "    annot=True, center=0, vmin=-1, vmax=1\n",
    ")\n",
    "plt.title('Correlation between earthquake magnitude mb and whether there was a tsunami')"
   ]
  },
  {
   "cell_type": "markdown",
   "id": "ebeacecd",
   "metadata": {},
   "source": [
    "# \n",
    "Create a box plot of Facebook volume traded and closing prices, and draw reference\n",
    "lines for the bounds of a Tukey fence with a multiplier of 1.5. The bounds will be\n",
    "at Q1 − 1.5   IQR and Q3 + 1.5   IQR. Be sure to use the quantile() method on\n",
    "the data to make this easier. (Pick whichever orientation you prefer for the plot, but\n",
    "make sure to use subplots.)"
   ]
  },
  {
   "cell_type": "code",
   "execution_count": 7,
   "id": "ae45eef8",
   "metadata": {},
   "outputs": [
    {
     "data": {
      "text/html": [
       "<div>\n",
       "<style scoped>\n",
       "    .dataframe tbody tr th:only-of-type {\n",
       "        vertical-align: middle;\n",
       "    }\n",
       "\n",
       "    .dataframe tbody tr th {\n",
       "        vertical-align: top;\n",
       "    }\n",
       "\n",
       "    .dataframe thead th {\n",
       "        text-align: right;\n",
       "    }\n",
       "</style>\n",
       "<table border=\"1\" class=\"dataframe\">\n",
       "  <thead>\n",
       "    <tr style=\"text-align: right;\">\n",
       "      <th></th>\n",
       "      <th>open</th>\n",
       "      <th>high</th>\n",
       "      <th>low</th>\n",
       "      <th>close</th>\n",
       "      <th>volume</th>\n",
       "    </tr>\n",
       "    <tr>\n",
       "      <th>date</th>\n",
       "      <th></th>\n",
       "      <th></th>\n",
       "      <th></th>\n",
       "      <th></th>\n",
       "      <th></th>\n",
       "    </tr>\n",
       "  </thead>\n",
       "  <tbody>\n",
       "    <tr>\n",
       "      <th>2018-01-02</th>\n",
       "      <td>177.68</td>\n",
       "      <td>181.58</td>\n",
       "      <td>177.5500</td>\n",
       "      <td>181.42</td>\n",
       "      <td>18151903</td>\n",
       "    </tr>\n",
       "    <tr>\n",
       "      <th>2018-01-03</th>\n",
       "      <td>181.88</td>\n",
       "      <td>184.78</td>\n",
       "      <td>181.3300</td>\n",
       "      <td>184.67</td>\n",
       "      <td>16886563</td>\n",
       "    </tr>\n",
       "    <tr>\n",
       "      <th>2018-01-04</th>\n",
       "      <td>184.90</td>\n",
       "      <td>186.21</td>\n",
       "      <td>184.0996</td>\n",
       "      <td>184.33</td>\n",
       "      <td>13880896</td>\n",
       "    </tr>\n",
       "    <tr>\n",
       "      <th>2018-01-05</th>\n",
       "      <td>185.59</td>\n",
       "      <td>186.90</td>\n",
       "      <td>184.9300</td>\n",
       "      <td>186.85</td>\n",
       "      <td>13574535</td>\n",
       "    </tr>\n",
       "    <tr>\n",
       "      <th>2018-01-08</th>\n",
       "      <td>187.20</td>\n",
       "      <td>188.90</td>\n",
       "      <td>186.3300</td>\n",
       "      <td>188.28</td>\n",
       "      <td>17994726</td>\n",
       "    </tr>\n",
       "    <tr>\n",
       "      <th>...</th>\n",
       "      <td>...</td>\n",
       "      <td>...</td>\n",
       "      <td>...</td>\n",
       "      <td>...</td>\n",
       "      <td>...</td>\n",
       "    </tr>\n",
       "    <tr>\n",
       "      <th>2018-12-24</th>\n",
       "      <td>123.10</td>\n",
       "      <td>129.74</td>\n",
       "      <td>123.0200</td>\n",
       "      <td>124.06</td>\n",
       "      <td>22066002</td>\n",
       "    </tr>\n",
       "    <tr>\n",
       "      <th>2018-12-26</th>\n",
       "      <td>126.00</td>\n",
       "      <td>134.24</td>\n",
       "      <td>125.8900</td>\n",
       "      <td>134.18</td>\n",
       "      <td>39723370</td>\n",
       "    </tr>\n",
       "    <tr>\n",
       "      <th>2018-12-27</th>\n",
       "      <td>132.44</td>\n",
       "      <td>134.99</td>\n",
       "      <td>129.6700</td>\n",
       "      <td>134.52</td>\n",
       "      <td>31202509</td>\n",
       "    </tr>\n",
       "    <tr>\n",
       "      <th>2018-12-28</th>\n",
       "      <td>135.34</td>\n",
       "      <td>135.92</td>\n",
       "      <td>132.2000</td>\n",
       "      <td>133.20</td>\n",
       "      <td>22627569</td>\n",
       "    </tr>\n",
       "    <tr>\n",
       "      <th>2018-12-31</th>\n",
       "      <td>134.45</td>\n",
       "      <td>134.64</td>\n",
       "      <td>129.9500</td>\n",
       "      <td>131.09</td>\n",
       "      <td>24625308</td>\n",
       "    </tr>\n",
       "  </tbody>\n",
       "</table>\n",
       "<p>251 rows × 5 columns</p>\n",
       "</div>"
      ],
      "text/plain": [
       "              open    high       low   close    volume\n",
       "date                                                  \n",
       "2018-01-02  177.68  181.58  177.5500  181.42  18151903\n",
       "2018-01-03  181.88  184.78  181.3300  184.67  16886563\n",
       "2018-01-04  184.90  186.21  184.0996  184.33  13880896\n",
       "2018-01-05  185.59  186.90  184.9300  186.85  13574535\n",
       "2018-01-08  187.20  188.90  186.3300  188.28  17994726\n",
       "...            ...     ...       ...     ...       ...\n",
       "2018-12-24  123.10  129.74  123.0200  124.06  22066002\n",
       "2018-12-26  126.00  134.24  125.8900  134.18  39723370\n",
       "2018-12-27  132.44  134.99  129.6700  134.52  31202509\n",
       "2018-12-28  135.34  135.92  132.2000  133.20  22627569\n",
       "2018-12-31  134.45  134.64  129.9500  131.09  24625308\n",
       "\n",
       "[251 rows x 5 columns]"
      ]
     },
     "execution_count": 7,
     "metadata": {},
     "output_type": "execute_result"
    }
   ],
   "source": [
    "fb = pd.read_csv(\n",
    "    'data/fb_stock_prices_2018.csv', index_col='date', parse_dates=True\n",
    ")\n",
    "fb"
   ]
  },
  {
   "cell_type": "code",
   "execution_count": 8,
   "id": "88ccc67c",
   "metadata": {},
   "outputs": [
    {
     "data": {
      "text/plain": [
       "<AxesSubplot:>"
      ]
     },
     "execution_count": 8,
     "metadata": {},
     "output_type": "execute_result"
    },
    {
     "data": {
      "image/png": "[encoded data removed]",
      "text/plain": [
       "<Figure size 432x288 with 2 Axes>"
      ]
     },
     "metadata": {
      "needs_background": "light"
     },
     "output_type": "display_data"
    }
   ],
   "source": [
    "fig,axes= plt.subplots(1,2)\n",
    "sns.boxplot(data=fb['close'], ax=axes[0])\n",
    "sns.boxplot(data=fb['volume'],ax=axes[1])"
   ]
  },
  {
   "cell_type": "code",
   "execution_count": 9,
   "id": "84f63fc3",
   "metadata": {},
   "outputs": [],
   "source": [
    "\n",
    "q1_close=fb['close'].quantile(0.25)\n",
    "q3_close=fb['close'].quantile(0.75)\n",
    "IQR_close= q3_close-q1_close\n",
    "\n",
    "q1_vol=fb['volume'].quantile(0.25)\n",
    "q3_vol=fb['volume'].quantile(0.75)\n",
    "IQR_vol= q3_vol-q1_vol"
   ]
  },
  {
   "cell_type": "code",
   "execution_count": 10,
   "id": "a65e933c",
   "metadata": {},
   "outputs": [
    {
     "data": {
      "text/plain": [
       "<matplotlib.legend.Legend at 0x7feb69ca6d90>"
      ]
     },
     "execution_count": 10,
     "metadata": {},
     "output_type": "execute_result"
    },
    {
     "data": {
      "image/png": "[encoded data removed]",
      "text/plain": [
       "<Figure size 432x288 with 1 Axes>"
      ]
     },
     "metadata": {
      "needs_background": "light"
     },
     "output_type": "display_data"
    }
   ],
   "source": [
    "ax = sns.boxplot(data=fb['close'])\n",
    "fb['close'].plot(title='close max_min')\n",
    "plt.axhline(\n",
    "    y=q1_close-1.5*IQR_close, color='r', linestyle='--')\n",
    "plt.axhline(\n",
    "    y=q3_close+1.5*IQR_close, color='b', linestyle='-')\n",
    "#sns.boxplot(data=fb['close'], ax=axes[0])\n",
    "plt.ylabel('lala ($)')\n",
    "plt.legend()"
   ]
  },
  {
   "cell_type": "markdown",
   "id": "ac5cb635",
   "metadata": {},
   "source": [
    "# \n",
    "Plot the evolution of cumulative COVID-19 cases worldwide, and add a dashed\n",
    "vertical line on the date that it surpassed 1 million. Be sure to format the tick labels\n",
    "on the y-axis accordingly."
   ]
  },
  {
   "cell_type": "code",
   "execution_count": 11,
   "id": "d5c63c57",
   "metadata": {},
   "outputs": [],
   "source": [
    "covid = pd.read_csv('data/covid19_cases.csv').assign(\n",
    "    date=lambda x: pd.to_datetime(x.dateRep, format='%d/%m/%Y')\n",
    ").set_index('date').replace(\n",
    "    'United_States_of_America', 'USA'\n",
    ").sort_index()['2020-01-18':'2020-09-18']"
   ]
  },
  {
   "cell_type": "code",
   "execution_count": null,
   "id": "2c8c86eb",
   "metadata": {},
   "outputs": [],
   "source": []
  },
  {
   "cell_type": "code",
   "execution_count": 13,
   "id": "3ca59902",
   "metadata": {},
   "outputs": [],
   "source": [
    "cumulative_covid_cases = covid.groupby(pd.Grouper(freq='1D')).cases.sum().apply('cumsum')"
   ]
  },
  {
   "cell_type": "code",
   "execution_count": 17,
   "id": "85683440",
   "metadata": {},
   "outputs": [
    {
     "data": {
      "text/plain": [
       "date\n",
       "2020-01-18          17\n",
       "2020-01-19         153\n",
       "2020-01-20         173\n",
       "2020-01-21         326\n",
       "2020-01-22         468\n",
       "                ...   \n",
       "2020-09-14    29079659\n",
       "2020-09-15    29322522\n",
       "2020-09-16    29626504\n",
       "2020-09-17    29917646\n",
       "2020-09-18    30231304\n",
       "Freq: D, Name: cases, Length: 245, dtype: int64"
      ]
     },
     "execution_count": 17,
     "metadata": {},
     "output_type": "execute_result"
    }
   ],
   "source": [
    "cumulative_covid_cases"
   ]
  },
  {
   "cell_type": "code",
   "execution_count": 24,
   "id": "e9c99aa2",
   "metadata": {},
   "outputs": [
    {
     "data": {
      "text/plain": [
       "Timestamp('2020-04-03 00:00:00', freq='D')"
      ]
     },
     "execution_count": 24,
     "metadata": {},
     "output_type": "execute_result"
    }
   ],
   "source": [
    "date_million = cumulative_covid_cases[cumulative_covid_cases>=1000000].index[0]\n",
    "date_million"
   ]
  },
  {
   "cell_type": "code",
   "execution_count": 50,
   "id": "724919e7",
   "metadata": {},
   "outputs": [
    {
     "data": {
      "text/plain": [
       "Timestamp('2020-06-29 00:00:00', freq='D')"
      ]
     },
     "execution_count": 50,
     "metadata": {},
     "output_type": "execute_result"
    }
   ],
   "source": [
    "ten_million=  cumulative_covid_cases[cumulative_covid_cases>=10000000].index[0]\n",
    "ten_million"
   ]
  },
  {
   "cell_type": "code",
   "execution_count": 56,
   "id": "c24216dd",
   "metadata": {},
   "outputs": [
    {
     "data": {
      "image/png": "[encoded data removed]",
      "text/plain": [
       "<Figure size 432x288 with 1 Axes>"
      ]
     },
     "metadata": {
      "needs_background": "light"
     },
     "output_type": "display_data"
    }
   ],
   "source": [
    "from matplotlib.ticker import EngFormatter\n",
    "ax= cumulative_covid_cases.plot(style=['--'])\n",
    "ax.axvline(date_million)\n",
    "\n",
    "plt.annotate(\n",
    "    f'1 Million cases\\n({date_million.strftime(\"2020-04-03\")})',\n",
    "    xy=('2020-04-03 00:00:00', date_million)\n",
    ")\n",
    "ax.set(xlabel='', ylabel='cumulative COVID-19 cases')\n",
    "ax.yaxis.set_major_formatter(EngFormatter())"
   ]
  },
  {
   "cell_type": "code",
   "execution_count": null,
   "id": "09083677",
   "metadata": {},
   "outputs": [],
   "source": []
  }
 ],
 "metadata": {
  "kernelspec": {
   "display_name": "Python 3 (ipykernel)",
   "language": "python",
   "name": "python3"
  },
  "language_info": {
   "codemirror_mode": {
    "name": "ipython",
    "version": 3
   },
   "file_extension": ".py",
   "mimetype": "text/x-python",
   "name": "python",
   "nbconvert_exporter": "python",
   "pygments_lexer": "ipython3",
   "version": "3.9.7"
  },
  "toc": {
   "base_numbering": 1,
   "nav_menu": {},
   "number_sections": true,
   "sideBar": true,
   "skip_h1_title": false,
   "title_cell": "Table of Contents",
   "title_sidebar": "Contents",
   "toc_cell": false,
   "toc_position": {},
   "toc_section_display": true,
   "toc_window_display": false
  }
 },
 "nbformat": 4,
 "nbformat_minor": 5
}
